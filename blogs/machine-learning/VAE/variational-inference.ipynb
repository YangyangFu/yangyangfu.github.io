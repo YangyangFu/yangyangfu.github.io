{
 "cells": [
  {
   "cell_type": "raw",
   "metadata": {
    "vscode": {
     "languageId": "raw"
    }
   },
   "source": [
    "---\n",
    "title: \"Variational Inference\"\n",
    "date: 2025-06-14\n",
    "categories: [blogs]\n",
    "---"
   ]
  },
  {
   "attachments": {},
   "cell_type": "markdown",
   "metadata": {},
   "source": [
    "# Variational Inference\n",
    "\n",
    "The goal of generative models is to learn a distribution $p(x)$ (or known as **Evidence**) over the data $x$. Variational inference is a method to approximate complex distributions by transforming them into simpler ones.\n"
   ]
  },
  {
   "cell_type": "markdown",
   "metadata": {},
   "source": [
    "## Motivation"
   ]
  },
  {
   "cell_type": "markdown",
   "metadata": {},
   "source": [
    "For training a generative mode, the goal is to maximize the likelihood of the data, which can be expressed as:\n",
    "\n",
    "$$\\log p(x)$$\n",
    "\n",
    "Directly estimating $p(x)$ requires we have all the data in the world, which is not feasible. Based on chain rule, we can rewrite the log likelihood as:\n",
    "\n",
    "$$\\log p(x) = \\log \\int p(x, z) dz = \\log \\int p(x|z) p(z) dz$$\n",
    "\n",
    "\n",
    "However, this marginal likelihood is intractable, as it requires integrating over all possible latent variables $z$.\n",
    "- even if the $p(z), p(x|z)$ are simple distributions (e.g., Gaussian), the product is often non-Gaussian and high-dimensional, making the integral difficult to compute.\n",
    "- $p(x|z)$ as the decoder is usually a complex approximator, which makes the integral even harder to compute. \n",
    "\n",
    "To address this, we can propose a simpler parameterized distribution $q(z|x)$ (known as **Variational Distribution**) to approximate the posterior distribution $p(z|x)$. \n",
    "One of the goal is to find the parameters of $q(z|x)$ that minimize the difference between $q(z|x)$ and $p(z|x)$. "
   ]
  },
  {
   "cell_type": "markdown",
   "metadata": {},
   "source": [
    "## Variational Trick\n",
    "\n",
    "Now we introduce a **variational distribution** $q(z|x)$ to approximate the true posterior $p(z|x)$, an easier distribution to sample from. \n",
    "We usually reparameterize $q(z|x)$ with an encoder network.\n",
    "\n",
    "We can then rewrite the log likelihood as:\n",
    "\n",
    "$$\\log p(x) = E_{q(z|x)}[\\log p(x)]$$\n",
    "\n",
    "This holds because: $\\log p(x)$ is a constant with respect to $z$, independent of the integration variable. \n",
    "\n",
    "$$E_{q(z|x)}[\\log p(x)] = \\sum_z q(z|x) \\log p(x) = \\log p(x) \\sum_z q(z|x) = \\log p(x) \\times 1 = \\log p(x)$$"
   ]
  },
  {
   "cell_type": "markdown",
   "metadata": {},
   "source": [
    "Now add and subtract $\\log q(z|x)$ inside the expectation:\n",
    "\n",
    "$$\\log p(x) = E_{q(z|x)}[\\log \\frac{p(x, z)}{q(z|x)} + \\log \\frac{q(z|x)}{p(z|x)}]$$\n",
    "\n",
    "This gives:\n",
    "\n",
    "$$ \\log p(x) = E_{q(z|x)}[\\log \\frac{p(x, z)}{q(z|x)}] + E_{q(z|x)}[\\log \\frac{q(z|x)}{p(z|x)}] $$\n",
    "\n",
    "\n",
    "The first term is the **variational evidence lower bound** (ELBO), \n",
    "\n",
    "\\begin{align*}\n",
    "    \\mathcal{L}(q) &= E_{q(z|x)}[\\log \\frac{p(x, z)}{q(z|x)}]\\\\\n",
    "    &= E_{q(z|x)}[\\log \\frac{p(x|z)p(z)}{q(z|x)}] \\\\\n",
    "    &= E_{q(z|x)}[\\log p(x|z)] + E_{q(z|x)}[\\log \\frac{p(z)}{q(z|x)}] \\\\\n",
    "    &= E_{q(z|x)}[\\log p(x|z)] - E_{q(z|x)}[\\log \\frac{q(z|x)}{p(z)}] \\\\\n",
    "    &= E_{q(z|x)}[\\log p(x|z)] - KL(q(z|x) || p(z))\n",
    "\n",
    "\\end{align*}\n",
    "\n",
    "The second term is the **KL divergence** between the estimated variational distribution and the true posterior distribution, which is unknown because we cannot compute $p(z|x)$ directly.\n",
    "\n",
    "$$ KL(q(z|x) || p(z|x)) = E_{q(z|x)}[\\log \\frac{q(z|x)}{p(z|x)}] $$\n"
   ]
  },
  {
   "cell_type": "markdown",
   "metadata": {},
   "source": [
    "**Note that KL divergence is always non-negative**:\n",
    "\n",
    "Consider the function $f(x) = -\\log x$, which is convex, \n",
    "From Jensen's inequality, for a random variable $X$ and the convex function $f$, we have:\n",
    "$$ E[f(X)] \\geq f(E[X]) $$\n",
    "\n",
    "Apply $X = \\frac{p(z)}{q(z)}$:\n",
    "\n",
    "$$ E_{q(z)} [\\log(\\frac{p(z)}{q(z)})] \\leq \\log E_{q(z)}[\\frac{p(z)}{q(z)}] = \\log \\int_z q(z) \\frac{p(z)}{q(z)} dz = \\log 1 = 0 $$\n",
    "\n",
    "Thus, KL divergence is always non-negative:\n",
    "$$ KL(q(z) | p(z)) = E_{q(z)}[\\log \\frac{q(z)}{p(z)}] = - E_{q(z)} [\\log \\frac{p(z)}{q(z)}] \\geq 0 $$\n",
    "\n",
    "This means that **maximizing the likelihood $\\log p(x)$ is equivalent to maximizing the ELBO** $\\mathcal{L}(q)$, which is a lower bound of the log likelihood.\n",
    "This is the **variational trick**: we can find the variational distribution $q(z|x)$ to maximize the ELBO, which in turn approximates the true posterior distribution $p(z|x)$.\n",
    "\n",
    "$$\\log(p(x)) \\ge E_{q(z|x)}[\\log p(x|z)] - KL(q(z|x) || p(z))$$\n",
    "\n"
   ]
  },
  {
   "cell_type": "markdown",
   "metadata": {},
   "source": [
    "### How to evaluate the ELBO?\n",
    "\n",
    "The first term in ELBO is the expected reconstruction log likelihood:\n",
    "$$E_{q(z|x)}[\\log p(x|z)]$$\n",
    "\n",
    "This is an expectation over the latent variable $z \\sim q(z|x)$. \n",
    "- $q(z|x)$ is often parameterized by an encoder network, which outputs the parameters of the distribution (e.g., mean and variance for Gaussian). $p(x|z)$ is a decoder distribution (e.g., Gaussian)\n",
    "- no closed-form solution for this expectation, so we need to use sampling methods to estimate it.\n",
    "\n",
    "(1) **Reparameterization trick**:\n",
    "We can use the reparameterization trick to sample from $q(z|x)$, which allows us to backpropagate through the sampling process. \n",
    "For example, if $q(z|x)$ is a Gaussian distribution with mean $\\mu(x)$ and variance $\\sigma^2(x)$, we can sample $z$ as:\n",
    "$$z = \\mu(x) + \\sigma(x) \\odot \\epsilon$$\n",
    "\n",
    "where $\\epsilon \\sim N(0, I)$ is a standard Gaussian noise. This allows us to compute gradients with respect to the parameters of the encoder network.\n",
    "\n",
    "(2) **Monte Carlo Approximation**:\n",
    "\n",
    "We can approximate the expectation by sampling $N$ times from $q(z|x)$:\n",
    "$$E_{q(z|x)}[\\log p(x|z)] \\approx \\frac{1}{N} \\sum_{i=1}^{N} \\log p(x|z_i)$$\n",
    "\n",
    "where $z_i \\sim q(z|x)$ for $i = 1, 2, \\ldots, N$.\n"
   ]
  },
  {
   "cell_type": "markdown",
   "metadata": {},
   "source": [
    "### How to evaluate the KL divergence?\n",
    "The second term in ELBO is the KL divergence:\n",
    "$$KL(q(z|x) || p(z)) = E_{q(z|x)}[\\log \\frac{q(z|x)}{p(z)}]$$\n",
    "\n",
    "This term can often be computed in closed form, depending on the choice of $q(z|x)$ and $p(z)$."
   ]
  },
  {
   "cell_type": "markdown",
   "metadata": {},
   "source": [
    "## Variational Distribution\n",
    "\n",
    "The **variational distribution** or **encoder** $q(z|x)$ is a simpler distribution that we can sample from. The choice of its form affects how well it approximates the true posterior $p(z|x)$."
   ]
  },
  {
   "cell_type": "markdown",
   "metadata": {},
   "source": [
    "### Diagonal Gaussian\n",
    "A common choice is a **diagonal Gaussian**:\n",
    "$$ q(z|x) = \\mathcal{N}(z; \\mu(x), \\sigma^2(x)) $$\n",
    "\n",
    "where $\\mu(x)$ and $\\sigma^2(x)$ are functions (often neural networks) that output the mean and variance for each latent variable $z$ given the input $x$. \n",
    "\n",
    "This distribution leads to analytical KL with a closed-form solution:\n",
    "$$ KL(\\mathcal{N}(\\mu, \\delta^2) || \\mathcal{N}(0, 1)) = \\frac{1}{2} \\sum_i (\\mu_i^2 + \\sigma_i^2 - \\log(\\sigma_i^2) - 1) $$\n",
    "\n",
    "where $i$ indexes the latent dimensions.\n",
    "\n",
    "This choice allows sampling via the reparameterization trick:\n",
    "$$ z = \\mu(x) + \\sigma(x) \\odot \\epsilon $$\n",
    "\n",
    "where $\\epsilon \\sim \\mathcal{N}(0, I)$ is a standard normal noise vector, and $\\odot$ denotes element-wise multiplication. \n",
    "This allows gradients to flow through the sampling process, enabling backpropagation during training."
   ]
  },
  {
   "cell_type": "markdown",
   "metadata": {},
   "source": [
    "### Mixture of Gaussians\n",
    "Another choice is a **mixture of Gaussians**:\n",
    "$$ q(z|x) = \\sum_{k=1}^K \\pi_k(x) \\mathcal{N}(z; \\mu_k(x), \\sigma_k^2(x)) $$\n",
    "\n",
    "where $\\pi_k(x)$ are the mixing coefficients, $\\mu_k(x)$ and $\\sigma_k^2(x)$ are the means and variances for each component, and $K$ is the number of components.\n",
    "This can model multimodal posteriors better than a single Gaussian.\n",
    "\n",
    "But it has no analytical KL divergence, so we need to use Monte Carlo methods to estimate the ELBO."
   ]
  },
  {
   "cell_type": "markdown",
   "metadata": {},
   "source": [
    "### Normalizing Flows\n",
    "A more flexible approach is to use **normalizing flows**, which transform a simple distribution (like a Gaussian) into a more complex one through a series of invertible transformations.\n",
    "\n",
    "$z = f_K f_{K-1} \\dots f_1(\\epsilon)$, \n",
    "\n",
    "where $f$ is a sequence of transformations parameterized by $\\theta$. \n",
    "\n",
    "The ELBO can be computed using the change of variables formula:\n",
    "$$ \\log p(x) = E_{q(z|x)}[\\log p(x|z) + \\log \\det \\frac{\\partial f^{-1}}{\\partial z}] $$\n",
    "This allows for complex posteriors while still being able to compute the ELBO. "
   ]
  },
  {
   "cell_type": "markdown",
   "metadata": {},
   "source": [
    "## Autoencoder \n",
    "\n",
    "An **autoencoder** is a neural network architecture that learns to encode input data into a lower-dimensional latent space and then decode it back to reconstruct the original data.\n",
    "\n",
    "It consists of two main components:\n",
    "1. **Encoder**: Maps the input data $x$ to a latent representation $z$ \n",
    "2. **Decoder**: Maps the latent representation $z$ back to the data space to reconstruct $x$.\n",
    "\n",
    "If the encoder is not probabilistic, it simply outputs a deterministic $z = f(x)$, where $f$ is a neural network. The decoder then reconstructs the input as $\\hat{x} = g(z)$, where $g$ is another neural network.\n",
    "The training objective is to minimize the reconstruction error, often using mean squared error (MSE) or cross-entropy loss:\n",
    "$$ \\mathcal{L}_{\\text{recon}}(x, \\hat{x}) = || x - \\hat{x} ||^2 $$\n",
    "\n",
    "Thus this traditional autoencoders\n",
    "- are not generative models, as they do not model the distribution of the data but rather learn a compressed representation.\n",
    "- have no mechanism to sample from the latent space, as it does not define a distribution over $z$.\n",
    "- latent space may be irrelevant or not sparse -> a random z often leads to garbage output.\n",
    "\n"
   ]
  },
  {
   "cell_type": "markdown",
   "metadata": {},
   "source": [
    "## Variational Autoencoder (VAE)\n",
    "\n",
    "To make the autoencoder generative, we introduce a probabilistic encoder that outputs a distribution over the latent space instead of a single point.\n",
    "The encoder outputs parameters of a variational distribution $q(z|x)$, typically a diagonal Gaussian with mean $\\mu(x)$ and variance $\\sigma^2(x)$.\n",
    "The decoder then samples from this distribution to generate the latent variable $z$:\n",
    "$$ z \\sim q(z|x) = \\mathcal{N}(z; \\mu(x), \\sigma^2(x)) $$\n",
    "\n",
    "The decoder then reconstructs the input from the sampled $z$:\n",
    "$$ \\hat{x} = g(z) $$\n",
    "The training objective is to maximize the ELBO, based on the variational trick.\n",
    "\n",
    "In practice, during training, to estimate the first term of ELBO, instead of sampling $N$ samples from $q(z|x)$, we can use the reparameterization trick to sample one single $z$:\n",
    "\n",
    "$$ E_{q(z|x)}[\\log p(x|z)] \\approx \\log p(x|z_1), z_1 \\sim q(z|x) $$\n",
    "\n",
    "Only one sample works because this is training. Training with one sample is like a stochastic gradient descent, which is a common practice in training neural networks.\n",
    "\n",
    "\n",
    "With the assumption that $x \\in \\mathcal{R}^D$, the decoder $p(x|z)$ is a Gaussian distribution, the likelihood becomes:\n",
    "$$ \\log p(x|z) = -\\frac{1}{2\\delta^2} || x - g(z) ||^2 - \\frac{D}{2} \\log(2\\pi \\delta^2) $$\n",
    "\n",
    "where $\\delta$ is a hyperparameter controlling the noise level in the reconstruction, usually set to 1. \n",
    "Thus this term reduces to minimizing the reconstruction error between the input $x$ and the reconstructed output $\\hat{x} = g(z)$."
   ]
  },
  {
   "cell_type": "markdown",
   "metadata": {},
   "source": [
    "### How to use VAE?\n",
    "This generative model can be used in several ways:\n",
    "1. **Reconstruction**: Given an input $x$, the encoder maps it to a latent representation $z$ and the decoder reconstructs $\\hat{x}$. The model is trained to minimize the reconstruction error while also ensuring that the latent space follows a prior distribution (e.g., standard normal).\n",
    "2. **Sampling**: We can sample from the latent space by sampling $z$ from the prior $p(z)$ (often a standard normal $\\mathcal{N}(0, I)$) and then passing it through the decoder to generate new data points. This process is random but constrained by the learned latent space structure. To maxmize the ELBO is to minimize the KL divergence between the variational distribution and the prior, which push the latent space to be close to the prior distribution (e.g., normal distribution). During inference, sampling from the prior leads to meaningful samples that resemble the training data.\n",
    "\n",
    "\n",
    "For generative tasks, **how to control the sampling process?**\n",
    "- **Interpolation**: By sampling two points in the latent space and interpolating between them, we can generate smooth transitions between different data points.\n",
    "\n",
    "$$ z_{\\text{interp}} = \\alpha z_1 + (1 - \\alpha) z_2 $$\n",
    "\n",
    "where $\\alpha$ is a parameter that controls the interpolation.\n",
    "- **Conditional Generation**: By conditioning the encoder on additional information (e.g., class labels), we can generate samples that belong to specific categories. This is done by modifying the encoder to take the additional information as input, allowing it to learn a conditional distribution over the latent space.\n",
    "- **VQ-VAE + Transformer**: For text generation, we can use a VQ-VAE to encode text into discrete latent codes and then use a transformer to model the relationships between these codes, allowing for coherent text generation.\n",
    "\n",
    "\n",
    "\n"
   ]
  },
  {
   "cell_type": "markdown",
   "metadata": {},
   "source": [
    "## Vector Quantized Variational Autoencoder (VQ-VAE)\n",
    "\n",
    "Instead of using a continuous latent space, VQ-VAE uses a discrete latent space by quantizing the latent representations into a finite set of vectors (codebook). The architecure consists of:\n",
    "1. **Encoder**: Maps the input data $x$ to a continuous latent representation $z_e = f_e(x)$.\n",
    "2. **Codebook**: A set of discrete vectors (codebook), e.g., $K$, that the continuous latent representation is quantized to. The encoder output is mapped to the nearest codebook vector:\n",
    "$$ z_q = \\text{argmin}_{e_k \\in \\text{codebook}} || z_e - e_k ||^2 $$\n",
    "3. **Decoder**: Maps the quantized latent representation $z_q$ back to the data space to reconstruct $x$:\n",
    "$$ \\hat{x} = g(z_q) $$\n"
   ]
  },
  {
   "cell_type": "markdown",
   "metadata": {},
   "source": [
    "### Varitional Distribution\n",
    "The variational distribution $q(z|x)$ is not a continuous distribution but rather a discrete set of vectors from the codebook. The encoder outputs a continuous latent representation, which is then quantized to the nearest codebook vector.\n",
    "Thus the posterior approximation $q(z_q|x)$  are defined as one-hot as follows:\n",
    "$$ q(z_q = e_k | x) = \\begin{cases}\n",
    "1 & \\text{if } e_k \\text{ is the nearest codebook vector for } z_e \\\\\n",
    "0 & \\text{otherwise}\n",
    "\\end{cases} $$\n",
    "This means that the encoder does not output parameters of a distribution but rather a discrete choice of which codebook vector to use. \n",
    "We can use this distribution to bound ELBO.\n",
    "\n",
    "The prior distribution $p(z_q)$ is a uniform distribution over the codebook vectors, as each vector is equally likely to be chosen."
   ]
  },
  {
   "cell_type": "markdown",
   "metadata": {},
   "source": [
    "### Training Objective\n",
    "The training involves learning the encoder, the codebook and the decoder, which can be formulated as follows:\n",
    "\n",
    "$$ \\mathcal{L} = \\mathcal{L}_{ELBO} + \\mathcal{L}_{codebook} $$\n",
    "\n",
    "where the first term is the ELBO for VAE, and the second term is a commitment loss that encourages the encoder outputs and the codebook vectors to stay close to each other.\n"
   ]
  },
  {
   "cell_type": "markdown",
   "metadata": {},
   "source": [
    "\n",
    "**ELBO loss**\n",
    "\n",
    "Because of the quantization process, the latent variable after the encoder is no longer continuous.\n",
    "\n",
    "$$\\log p(x) = \\int \\log p(x|z_e) p(z_e) dz_e$$\n",
    "\n",
    "Because the decoder $p(x|z)$ is trained with $z = z_q(x)$, the decoder shouldn't allocate any probability mass to p(x|z_e)$ when $z_e$ is not in the codebook once it's converged.\n",
    "Thus we can write:\n",
    "$$\\log p(x) \\approx \\sum_{z_q \\in \\text{codebook}} \\log p(x|z_q) p(z_q) $$\n",
    "\n",
    "To maximize the above likelihodd is to maximize the ELBo. From the derivation of ELBO, we have:\n",
    "$$ \\mathcal{L}_{ELBO} = E_{q(z_q|x)}[\\log p(x|z_q)] - KL(q(z_q|x) || p(z_q)) $$\n",
    "\n",
    "The first term as a decoder loss, is equivalent to minimizing the reconstruction error $||x - \\hat x||_2^2$.\n",
    "The second term is the KL divergence between the variational distribution and the prior distribution, which encourages the quantized latent representations to be close to the codebook vectors.\n",
    "The variation distribution $q(z_q|x)$ is a categorical distribution over the codebook vectors, and the prior distribution $p(z_q)$ is a uniform distribution over the codebook vectors.\n",
    "Thus the KL divergence can be computed as:\n",
    "$$ KL(q(z_q|x) || p(z_q)) = \\log q(z_q=k|x) - \\log p(z_q=k) = \\log 1 - \\log\\frac{1}{K} = \\log K$$\n",
    "\n",
    "which is constant. \n",
    "\n",
    "Then to minimize ELBO loss is simplified to minimize:\n",
    "$$\\mathcal{L}_{ELBO} = -E_{q(z_q|x)}[\\log p(x|z_q)]$$ \n"
   ]
  },
  {
   "cell_type": "markdown",
   "metadata": {},
   "source": [
    "### Codebook Loss\n",
    "The codebook loss encourages the encoder outputs to be close to the codebook vectors. It is defined as:\n",
    "$$ \\mathcal{L}_{codebook} = || z_e - e_k ||^2 $$\n",
    "\n",
    "However, due to the moving target problem while jointly training the encoder and the codebook, this loss is broken down into two parts:\n",
    "\n",
    "$$ \\mathcal{L}_{codebook} = || sg(z_e) - e_k ||^2 + || z_e - sg(e_k) ||^2 $$\n",
    "\n",
    "where $e_k$ is the codebook vector that is closest to $z_e$, and $sg$ is the stop gradient operation that prevents gradients from flowing through the codebook vectors.\n",
    "\n"
   ]
  },
  {
   "cell_type": "markdown",
   "metadata": {},
   "source": [
    "## Importance Weighted Autoencoder (IWAE)\n",
    "\n",
    "The above variational autoencoders (VAEs) use a single sample from the variational distribution to estimate the ELBO. However, this can lead to high variance in the gradient estimates, making training unstable and slow.\n",
    "To address this, the **Importance Weighted Autoencoder (IWAE)** uses multiple samples from the variational distribution to estimate the ELBO more accurately, which also leads a tighter bound on the log likelihood.\n",
    "\n",
    "In VAEs, we maximize the ELBO:\n",
    "$$ \\log p(x) \\geq E_{q(z|x)}[\\log p(x|z)] - KL(q(z|x) || p(z)) $$\n",
    "This is a loose bound, especially when the variational distribution $q(z|x)$ is not a good approximation of the true posterior $p(z|x)$.\n",
    "\n",
    "IWAE improves this by drawing $K$ samples for the variational distribution $q(z|x)$ and constructing a tighter bound:\n",
    "\n",
    "$$ \\log p(x) \\geq E_{q(z_1, z_2, \\ldots, z_K | x)}[\\log \\frac{p(x, z_1, z_2, \\ldots, z_K)}{q(z_1, z_2, \\ldots, z_K | x)}] = E_{q(z_1, z_2, \\ldots, z_K | x)}[\\log \\frac{1}{K} \\sum_{i=1}^{K} \\frac{p(x, z_i)}{q(z_i | x)}] $$\n",
    "\n",
    "where $z_i \\sim q(z|x)$ for $i = 1, 2, \\ldots, K$.\n"
   ]
  }
 ],
 "metadata": {
  "language_info": {
   "name": "python"
  },
  "orig_nbformat": 4
 },
 "nbformat": 4,
 "nbformat_minor": 2
}
